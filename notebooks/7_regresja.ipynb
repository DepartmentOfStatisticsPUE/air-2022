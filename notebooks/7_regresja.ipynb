{
  "nbformat": 4,
  "nbformat_minor": 0,
  "metadata": {
    "colab": {
      "name": "7_regresja.ipynb",
      "provenance": [],
      "collapsed_sections": [],
      "authorship_tag": "ABX9TyPXoEA93yx8wUx2kdXbyvEV",
      "include_colab_link": true
    },
    "kernelspec": {
      "name": "python3",
      "display_name": "Python 3"
    },
    "language_info": {
      "name": "python"
    }
  },
  "cells": [
    {
      "cell_type": "markdown",
      "metadata": {
        "id": "view-in-github",
        "colab_type": "text"
      },
      "source": [
        "<a href=\"https://colab.research.google.com/github/DepartmentOfStatisticsPUE/air-2022/blob/main/notebooks/7_regresja.ipynb\" target=\"_parent\"><img src=\"https://colab.research.google.com/assets/colab-badge.svg\" alt=\"Open In Colab\"/></a>"
      ]
    },
    {
      "cell_type": "code",
      "metadata": {
        "id": "n99uB2X-TE_g"
      },
      "source": [
        "import pandas as pd\n",
        "import numpy as np\n",
        "import statsmodels.api as sm\n",
        "import statsmodels.formula.api as smf"
      ],
      "execution_count": 1,
      "outputs": []
    },
    {
      "cell_type": "markdown",
      "metadata": {
        "id": "gIGCCzohT1rY"
      },
      "source": [
        "Wczytajmy dane dotyczące nieruchomości"
      ]
    },
    {
      "cell_type": "code",
      "metadata": {
        "colab": {
          "base_uri": "https://localhost:8080/",
          "height": 184
        },
        "id": "y8kGMWYsT35j",
        "outputId": "8734ef91-42c7-4358-b82d-65ff4ea4d101"
      },
      "source": [
        "rent = pd.read_excel(\"rent-poznan.xlsx\")\n",
        "rent.head(n=2)"
      ],
      "execution_count": 2,
      "outputs": [
        {
          "output_type": "execute_result",
          "data": {
            "text/html": [
              "<div>\n",
              "<style scoped>\n",
              "    .dataframe tbody tr th:only-of-type {\n",
              "        vertical-align: middle;\n",
              "    }\n",
              "\n",
              "    .dataframe tbody tr th {\n",
              "        vertical-align: top;\n",
              "    }\n",
              "\n",
              "    .dataframe thead th {\n",
              "        text-align: right;\n",
              "    }\n",
              "</style>\n",
              "<table border=\"1\" class=\"dataframe\">\n",
              "  <thead>\n",
              "    <tr style=\"text-align: right;\">\n",
              "      <th></th>\n",
              "      <th>id</th>\n",
              "      <th>date_activ</th>\n",
              "      <th>date_modif</th>\n",
              "      <th>date_expire</th>\n",
              "      <th>individual</th>\n",
              "      <th>price</th>\n",
              "      <th>flat_area</th>\n",
              "      <th>flat_rooms</th>\n",
              "      <th>flat_floor_no</th>\n",
              "      <th>flat_build_year</th>\n",
              "      <th>flat_furnished</th>\n",
              "      <th>flat_rent</th>\n",
              "      <th>flat_deposit</th>\n",
              "      <th>flat_price_include_rent</th>\n",
              "      <th>flat_for_students</th>\n",
              "      <th>flat_heating</th>\n",
              "      <th>flat_status</th>\n",
              "      <th>flat_windows</th>\n",
              "      <th>building_floor_num</th>\n",
              "      <th>building_type</th>\n",
              "      <th>building_material</th>\n",
              "      <th>ad_title</th>\n",
              "      <th>ad_seller_id</th>\n",
              "      <th>ad_promo</th>\n",
              "      <th>flat_balcony</th>\n",
              "      <th>flat_utility_room</th>\n",
              "      <th>flat_garage</th>\n",
              "      <th>flat_basement</th>\n",
              "      <th>flat_garden</th>\n",
              "      <th>flat_tarrace</th>\n",
              "      <th>flat_lift</th>\n",
              "      <th>flat_two_level</th>\n",
              "      <th>flat_kitchen_sep</th>\n",
              "      <th>flat_air_cond</th>\n",
              "      <th>flat_nonsmokers</th>\n",
              "      <th>flat_washmachine</th>\n",
              "      <th>flat_dishwasher</th>\n",
              "      <th>flat_fridge</th>\n",
              "      <th>flat_cooker</th>\n",
              "      <th>flat_oven</th>\n",
              "      <th>flat_tv_device</th>\n",
              "      <th>flat_internet</th>\n",
              "      <th>flat_television</th>\n",
              "      <th>flat_phone</th>\n",
              "      <th>flat_anti_blinds</th>\n",
              "      <th>flat_anti_doors_windows</th>\n",
              "      <th>flat_intercom</th>\n",
              "      <th>flat_monitoring</th>\n",
              "      <th>flat_alarm_sys</th>\n",
              "      <th>flat_closed_area</th>\n",
              "      <th>quarter</th>\n",
              "    </tr>\n",
              "  </thead>\n",
              "  <tbody>\n",
              "    <tr>\n",
              "      <th>0</th>\n",
              "      <td>19576742</td>\n",
              "      <td>2015-03-24</td>\n",
              "      <td>2020-09-05</td>\n",
              "      <td>2020-10-05</td>\n",
              "      <td>True</td>\n",
              "      <td>1400</td>\n",
              "      <td>30.0</td>\n",
              "      <td>1</td>\n",
              "      <td>2.0</td>\n",
              "      <td>0</td>\n",
              "      <td>True</td>\n",
              "      <td>360</td>\n",
              "      <td>1400.0</td>\n",
              "      <td>False</td>\n",
              "      <td>True</td>\n",
              "      <td>0.0</td>\n",
              "      <td>0.0</td>\n",
              "      <td>0.0</td>\n",
              "      <td>0</td>\n",
              "      <td>0.0</td>\n",
              "      <td>NaN</td>\n",
              "      <td>Ładna, kawalerka. BEZPOŚREDNIO.</td>\n",
              "      <td>592916</td>\n",
              "      <td>False</td>\n",
              "      <td>False</td>\n",
              "      <td>False</td>\n",
              "      <td>False</td>\n",
              "      <td>True</td>\n",
              "      <td>False</td>\n",
              "      <td>False</td>\n",
              "      <td>False</td>\n",
              "      <td>False</td>\n",
              "      <td>True</td>\n",
              "      <td>False</td>\n",
              "      <td>False</td>\n",
              "      <td>True</td>\n",
              "      <td>True</td>\n",
              "      <td>True</td>\n",
              "      <td>True</td>\n",
              "      <td>True</td>\n",
              "      <td>False</td>\n",
              "      <td>False</td>\n",
              "      <td>False</td>\n",
              "      <td>False</td>\n",
              "      <td>False</td>\n",
              "      <td>False</td>\n",
              "      <td>True</td>\n",
              "      <td>False</td>\n",
              "      <td>False</td>\n",
              "      <td>False</td>\n",
              "      <td>Rataje</td>\n",
              "    </tr>\n",
              "    <tr>\n",
              "      <th>1</th>\n",
              "      <td>20292499</td>\n",
              "      <td>2013-07-19</td>\n",
              "      <td>2020-08-30</td>\n",
              "      <td>2020-09-09</td>\n",
              "      <td>True</td>\n",
              "      <td>4600</td>\n",
              "      <td>160.0</td>\n",
              "      <td>4</td>\n",
              "      <td>4.0</td>\n",
              "      <td>1900</td>\n",
              "      <td>True</td>\n",
              "      <td>0</td>\n",
              "      <td>0.0</td>\n",
              "      <td>False</td>\n",
              "      <td>True</td>\n",
              "      <td>1.0</td>\n",
              "      <td>0.0</td>\n",
              "      <td>0.0</td>\n",
              "      <td>5</td>\n",
              "      <td>1.0</td>\n",
              "      <td>0.0</td>\n",
              "      <td>Apartment in very center of Poznan - direct of...</td>\n",
              "      <td>226529</td>\n",
              "      <td>False</td>\n",
              "      <td>False</td>\n",
              "      <td>True</td>\n",
              "      <td>False</td>\n",
              "      <td>False</td>\n",
              "      <td>False</td>\n",
              "      <td>False</td>\n",
              "      <td>False</td>\n",
              "      <td>False</td>\n",
              "      <td>True</td>\n",
              "      <td>False</td>\n",
              "      <td>False</td>\n",
              "      <td>True</td>\n",
              "      <td>True</td>\n",
              "      <td>True</td>\n",
              "      <td>True</td>\n",
              "      <td>True</td>\n",
              "      <td>False</td>\n",
              "      <td>True</td>\n",
              "      <td>True</td>\n",
              "      <td>True</td>\n",
              "      <td>False</td>\n",
              "      <td>False</td>\n",
              "      <td>True</td>\n",
              "      <td>True</td>\n",
              "      <td>True</td>\n",
              "      <td>False</td>\n",
              "      <td>Stare Miasto</td>\n",
              "    </tr>\n",
              "  </tbody>\n",
              "</table>\n",
              "</div>"
            ],
            "text/plain": [
              "         id date_activ  ... flat_closed_area       quarter\n",
              "0  19576742 2015-03-24  ...            False        Rataje\n",
              "1  20292499 2013-07-19  ...            False  Stare Miasto\n",
              "\n",
              "[2 rows x 51 columns]"
            ]
          },
          "metadata": {},
          "execution_count": 2
        }
      ]
    },
    {
      "cell_type": "code",
      "metadata": {
        "colab": {
          "base_uri": "https://localhost:8080/"
        },
        "id": "bZDh4s_mem-r",
        "outputId": "101feb23-d7a4-4f88-c15b-bbfb36415c8b"
      },
      "source": [
        "rent.dtypes"
      ],
      "execution_count": 10,
      "outputs": [
        {
          "output_type": "execute_result",
          "data": {
            "text/plain": [
              "id                                  int64\n",
              "date_activ                 datetime64[ns]\n",
              "date_modif                 datetime64[ns]\n",
              "date_expire                datetime64[ns]\n",
              "individual                           bool\n",
              "price                               int64\n",
              "flat_area                         float64\n",
              "flat_rooms                          int64\n",
              "flat_floor_no                     float64\n",
              "flat_build_year                     int64\n",
              "flat_furnished                       bool\n",
              "flat_rent                           int64\n",
              "flat_deposit                      float64\n",
              "flat_price_include_rent              bool\n",
              "flat_for_students                    bool\n",
              "flat_heating                      float64\n",
              "flat_status                       float64\n",
              "flat_windows                      float64\n",
              "building_floor_num                  int64\n",
              "building_type                     float64\n",
              "building_material                 float64\n",
              "ad_title                           object\n",
              "ad_seller_id                        int64\n",
              "ad_promo                             bool\n",
              "flat_balcony                         bool\n",
              "flat_utility_room                    bool\n",
              "flat_garage                          bool\n",
              "flat_basement                        bool\n",
              "flat_garden                          bool\n",
              "flat_tarrace                         bool\n",
              "flat_lift                            bool\n",
              "flat_two_level                       bool\n",
              "flat_kitchen_sep                     bool\n",
              "flat_air_cond                        bool\n",
              "flat_nonsmokers                      bool\n",
              "flat_washmachine                     bool\n",
              "flat_dishwasher                      bool\n",
              "flat_fridge                          bool\n",
              "flat_cooker                          bool\n",
              "flat_oven                            bool\n",
              "flat_tv_device                       bool\n",
              "flat_internet                        bool\n",
              "flat_television                      bool\n",
              "flat_phone                           bool\n",
              "flat_anti_blinds                     bool\n",
              "flat_anti_doors_windows              bool\n",
              "flat_intercom                        bool\n",
              "flat_monitoring                      bool\n",
              "flat_alarm_sys                       bool\n",
              "flat_closed_area                     bool\n",
              "quarter                            object\n",
              "dtype: object"
            ]
          },
          "metadata": {},
          "execution_count": 10
        }
      ]
    },
    {
      "cell_type": "markdown",
      "metadata": {
        "id": "sHaS94k0V2JN"
      },
      "source": [
        "Interesuje nas zbudowanie modelu regresji, w którym zmienną objaśnianą będzie cena (price), a zmienną objaśniającą będzie powierzchnia (flat_area).\n",
        "\n",
        "\n",
        "W modelu regresji liniowej zakładamy następującą zależność\n",
        "\n",
        "$$\n",
        "y = \\beta_0 + \\beta_1 x_1 + \\beta_2 x_2 + ... + \\beta_k x_k + \\epsilon, \\; \\epsilon \\sim N(0, \\sigma)\n",
        "$$\n",
        "\n",
        "na potrzeby naszego przykładu zakładamy model postaci\n",
        "\n",
        "$$\n",
        "y = \\beta_0 + \\beta_1 x_1 + \\epsilon, \\; \\epsilon \\sim N(0, \\sigma).\n",
        "$$\n",
        "\n",
        "W pythonie, podobnie jak w R, korzystamy z następującej notacji modeli:\n",
        "\n",
        "+ `y ~ x1` -- symbolem `~` oddzielamy zmienną objaśnianą (`y`) od zmiennej objaśniającej (`x1`)\n",
        "+ `y ~ x1 + x2 + x3` -- po symbolu `+` podajemy kolejne zmienne objaśniające (niezależne)"
      ]
    },
    {
      "cell_type": "code",
      "metadata": {
        "colab": {
          "base_uri": "https://localhost:8080/",
          "height": 297
        },
        "id": "tiQxa-YYXA33",
        "outputId": "93a45840-bfe3-444e-d34f-52ae1bcd4e11"
      },
      "source": [
        "rent_sub = rent.query(\"price > 500 & price < 15000 & flat_area < 250 & flat_area > 15\")\n",
        "rent_sub.plot.scatter(x = \"flat_area\", y = \"price\")"
      ],
      "execution_count": 5,
      "outputs": [
        {
          "output_type": "execute_result",
          "data": {
            "text/plain": [
              "<matplotlib.axes._subplots.AxesSubplot at 0x7f8233c8d490>"
            ]
          },
          "metadata": {},
          "execution_count": 5
        },
        {
          "output_type": "display_data",
          "data": {
            "image/png": "[encoded data removed]",
            "text/plain": [
              "<Figure size 432x288 with 1 Axes>"
            ]
          },
          "metadata": {
            "needs_background": "light"
          }
        }
      ]
    },
    {
      "cell_type": "code",
      "metadata": {
        "colab": {
          "base_uri": "https://localhost:8080/"
        },
        "id": "u1_MfSIdY6ng",
        "outputId": "7d2a9394-0a26-4ecb-9d16-e8221dabda74"
      },
      "source": [
        "model1 = smf.ols(formula= \"price ~ flat_area\", data = rent_sub)\n",
        "model1_fit = model1.fit()\n",
        "print(model1_fit.summary())"
      ],
      "execution_count": 8,
      "outputs": [
        {
          "output_type": "stream",
          "name": "stdout",
          "text": [
            "                            OLS Regression Results                            \n",
            "==============================================================================\n",
            "Dep. Variable:                  price   R-squared:                       0.423\n",
            "Model:                            OLS   Adj. R-squared:                  0.423\n",
            "Method:                 Least Squares   F-statistic:                 1.187e+04\n",
            "Date:                Mon, 06 Dec 2021   Prob (F-statistic):               0.00\n",
            "Time:                        11:00:27   Log-Likelihood:            -1.2425e+05\n",
            "No. Observations:               16181   AIC:                         2.485e+05\n",
            "Df Residuals:                   16179   BIC:                         2.485e+05\n",
            "Df Model:                           1                                         \n",
            "Covariance Type:            nonrobust                                         \n",
            "==============================================================================\n",
            "                 coef    std err          t      P>|t|      [0.025      0.975]\n",
            "------------------------------------------------------------------------------\n",
            "Intercept    624.2547     11.298     55.255      0.000     602.110     646.400\n",
            "flat_area     23.9660      0.220    108.967      0.000      23.535      24.397\n",
            "==============================================================================\n",
            "Omnibus:                    11437.553   Durbin-Watson:                   1.819\n",
            "Prob(Omnibus):                  0.000   Jarque-Bera (JB):           761890.513\n",
            "Skew:                           2.746   Prob(JB):                         0.00\n",
            "Kurtosis:                      36.165   Cond. No.                         141.\n",
            "==============================================================================\n",
            "\n",
            "Warnings:\n",
            "[1] Standard Errors assume that the covariance matrix of the errors is correctly specified.\n"
          ]
        }
      ]
    },
    {
      "cell_type": "markdown",
      "metadata": {
        "id": "dF7B57ZIbmsH"
      },
      "source": [
        "Zapiszmy powyższy model w formie równania\n",
        "\n",
        "$$\n",
        "\\text{price} = 624.25 + 23.97 \\times \\text{flat_area}\n",
        "$$\n",
        "\n",
        "+ $\\hat{\\beta}_0 = 624.25$ -- oznacza, że cena nieruchomosci gdy `flat_area = 0` wynosi  `624.25` zł \n",
        "+ $\\hat{\\beta}_1 = 23.97$ -- oznacza, że jeżeli powierzchnia wzrośnie o jednostkę (`1 m2`), ceteris paribus, to cena wzrosnie o `23.97` zł"
      ]
    },
    {
      "cell_type": "markdown",
      "metadata": {
        "id": "bIUKFchKdvha"
      },
      "source": [
        "Zbudujemy model, w którym jedyną zmienną objaśniającą będzie kolumna `flat_heating` określająca typ ogrzewania."
      ]
    },
    {
      "cell_type": "code",
      "metadata": {
        "colab": {
          "base_uri": "https://localhost:8080/"
        },
        "id": "hFBnHyGhcpe3",
        "outputId": "ec8a5762-06e4-4f4f-d569-cb42d14076bf"
      },
      "source": [
        "model2 = smf.ols(formula= \"price ~ flat_heating\", data = rent_sub).fit()\n",
        "print(model2.summary())"
      ],
      "execution_count": 9,
      "outputs": [
        {
          "output_type": "stream",
          "name": "stdout",
          "text": [
            "                            OLS Regression Results                            \n",
            "==============================================================================\n",
            "Dep. Variable:                  price   R-squared:                       0.000\n",
            "Model:                            OLS   Adj. R-squared:                  0.000\n",
            "Method:                 Least Squares   F-statistic:                     3.591\n",
            "Date:                Mon, 06 Dec 2021   Prob (F-statistic):             0.0581\n",
            "Time:                        11:19:12   Log-Likelihood:                -96048.\n",
            "No. Observations:               12127   AIC:                         1.921e+05\n",
            "Df Residuals:                   12125   BIC:                         1.921e+05\n",
            "Df Model:                           1                                         \n",
            "Covariance Type:            nonrobust                                         \n",
            "================================================================================\n",
            "                   coef    std err          t      P>|t|      [0.025      0.975]\n",
            "--------------------------------------------------------------------------------\n",
            "Intercept     1785.0362      6.393    279.211      0.000    1772.505    1797.568\n",
            "flat_heating   -14.0200      7.399     -1.895      0.058     -28.522       0.482\n",
            "==============================================================================\n",
            "Omnibus:                     9990.967   Durbin-Watson:                   1.915\n",
            "Prob(Omnibus):                  0.000   Jarque-Bera (JB):           508320.398\n",
            "Skew:                           3.623   Prob(JB):                         0.00\n",
            "Kurtosis:                      33.879   Cond. No.                         1.44\n",
            "==============================================================================\n",
            "\n",
            "Warnings:\n",
            "[1] Standard Errors assume that the covariance matrix of the errors is correctly specified.\n"
          ]
        }
      ]
    },
    {
      "cell_type": "markdown",
      "metadata": {
        "id": "ZbzI-msJe-2K"
      },
      "source": [
        "Jeżeli w zbiorze danych mamy zmienną typu jakościowego (mierzoną na skali porządkowej lub nominalnej) to powinniśmy poinformować o tym `pandas` lub `statsmodels`. Jeżeli chcemy poinformować o tym `pandas` to musimy zadeklarować typ zmiennej w zbiorze danych (`astype(\"category\")`). Jezeli chcemy zrobić to z poziomu `statsmodels` to w formule musimy wpisać `C(zmienna)`."
      ]
    },
    {
      "cell_type": "code",
      "metadata": {
        "colab": {
          "base_uri": "https://localhost:8080/"
        },
        "id": "a88uYJvOfi9G",
        "outputId": "bc8af7a9-6ecb-403d-eef4-6a694f490f98"
      },
      "source": [
        "rent_sub.value_counts(\"flat_heating\",  sort = False)"
      ],
      "execution_count": 15,
      "outputs": [
        {
          "output_type": "execute_result",
          "data": {
            "text/plain": [
              "flat_heating\n",
              "0.0    10105\n",
              "1.0     1545\n",
              "2.0        7\n",
              "3.0      170\n",
              "4.0      172\n",
              "5.0      128\n",
              "dtype: int64"
            ]
          },
          "metadata": {},
          "execution_count": 15
        }
      ]
    },
    {
      "cell_type": "code",
      "metadata": {
        "colab": {
          "base_uri": "https://localhost:8080/"
        },
        "id": "jediFIWLfXNm",
        "outputId": "3f20815c-0915-456a-adfb-6364ae2feb97"
      },
      "source": [
        "model3 = smf.ols(formula= \"price ~ C(flat_heating)\", data = rent_sub).fit()\n",
        "print(model3.summary())"
      ],
      "execution_count": 11,
      "outputs": [
        {
          "output_type": "stream",
          "name": "stdout",
          "text": [
            "                            OLS Regression Results                            \n",
            "==============================================================================\n",
            "Dep. Variable:                  price   R-squared:                       0.006\n",
            "Model:                            OLS   Adj. R-squared:                  0.006\n",
            "Method:                 Least Squares   F-statistic:                     15.80\n",
            "Date:                Mon, 06 Dec 2021   Prob (F-statistic):           1.52e-15\n",
            "Time:                        11:25:20   Log-Likelihood:                -96010.\n",
            "No. Observations:               12127   AIC:                         1.920e+05\n",
            "Df Residuals:                   12121   BIC:                         1.921e+05\n",
            "Df Model:                           5                                         \n",
            "Covariance Type:            nonrobust                                         \n",
            "==========================================================================================\n",
            "                             coef    std err          t      P>|t|      [0.025      0.975]\n",
            "------------------------------------------------------------------------------------------\n",
            "Intercept               1775.8124      6.606    268.818      0.000    1762.864    1788.761\n",
            "C(flat_heating)[T.1.0]    87.8155     18.140      4.841      0.000      52.258     123.373\n",
            "C(flat_heating)[T.2.0]  -887.9552    251.077     -3.537      0.000   -1380.107    -395.804\n",
            "C(flat_heating)[T.3.0]  -313.8594     51.358     -6.111      0.000    -414.528    -213.190\n",
            "C(flat_heating)[T.4.0]    -3.2891     51.063     -0.064      0.949    -103.381      96.803\n",
            "C(flat_heating)[T.5.0]   -88.3280     59.066     -1.495      0.135    -204.106      27.450\n",
            "==============================================================================\n",
            "Omnibus:                    10024.505   Durbin-Watson:                   1.915\n",
            "Prob(Omnibus):                  0.000   Jarque-Bera (JB):           520212.680\n",
            "Skew:                           3.635   Prob(JB):                         0.00\n",
            "Kurtosis:                      34.252   Cond. No.                         42.0\n",
            "==============================================================================\n",
            "\n",
            "Warnings:\n",
            "[1] Standard Errors assume that the covariance matrix of the errors is correctly specified.\n"
          ]
        }
      ]
    },
    {
      "cell_type": "markdown",
      "metadata": {
        "id": "5Dbzh0UAgiFO"
      },
      "source": [
        "Zmienna `flat_heating` miała 6 poziomów ale w regresji liniowej pojawia się tylko 5 poziomów ponieważ kodowanie zmiennych jakościowych w modelach regresji odbywa się tak, że zawsze jest ich o jeden mniej. Poziom, którego nie widać w wydruku traktujemy jako poziom referencyjny.\n",
        "\n",
        "$$\n",
        "\\text{price} = 1775 + 88 \\times (FH == 1) - 888 \\times(FH==2) - 314 \\times (FH==3) -3 \\times(FH == 4) - 88 \\times(FH==5) \n",
        "$$\n",
        "\n",
        "przykładowa interpretacja parametru 88: Jeżeli mamy dwa mieszkania o dokładnie takich samych charakterystykach (czyli mających tę samą powierzchnię, tę samą liczbę pokoi, zlokalizowanych w tym samym rejonie poznania itd) to jeżeli jedno ma ogrzewanie gazowe, a drugie ogrzewanie miejskie, to to pierwsze będzie droższe o średnio 88 zł. "
      ]
    },
    {
      "cell_type": "markdown",
      "metadata": {
        "id": "Y9caB0hvjTRb"
      },
      "source": [
        "Określimy typ zmiennej na poziomie zbioru danych"
      ]
    },
    {
      "cell_type": "code",
      "metadata": {
        "colab": {
          "base_uri": "https://localhost:8080/"
        },
        "id": "crGvPDyajSku",
        "outputId": "117dfcf3-6e72-4089-a029-a823b9fa1ec7"
      },
      "source": [
        "rent_sub[\"fh\"] = rent_sub[\"flat_heating\"].astype(\"category\")\n",
        "rent_sub.fh.dtype"
      ],
      "execution_count": 22,
      "outputs": [
        {
          "output_type": "stream",
          "name": "stderr",
          "text": [
            "/usr/local/lib/python3.7/dist-packages/ipykernel_launcher.py:1: SettingWithCopyWarning: \n",
            "A value is trying to be set on a copy of a slice from a DataFrame.\n",
            "Try using .loc[row_indexer,col_indexer] = value instead\n",
            "\n",
            "See the caveats in the documentation: https://pandas.pydata.org/pandas-docs/stable/user_guide/indexing.html#returning-a-view-versus-a-copy\n",
            "  \"\"\"Entry point for launching an IPython kernel.\n"
          ]
        },
        {
          "output_type": "execute_result",
          "data": {
            "text/plain": [
              "CategoricalDtype(categories=[0.0, 1.0, 2.0, 3.0, 4.0, 5.0], ordered=False)"
            ]
          },
          "metadata": {},
          "execution_count": 22
        }
      ]
    },
    {
      "cell_type": "code",
      "metadata": {
        "colab": {
          "base_uri": "https://localhost:8080/"
        },
        "id": "eWN1JdUeg8hA",
        "outputId": "c45df064-d60b-4b4c-91ca-cb9843ddbd5a"
      },
      "source": [
        "model3a = smf.ols(formula= \"price ~ fh\", data = rent_sub).fit()\n",
        "print(model3a.summary())"
      ],
      "execution_count": 23,
      "outputs": [
        {
          "output_type": "stream",
          "name": "stdout",
          "text": [
            "                            OLS Regression Results                            \n",
            "==============================================================================\n",
            "Dep. Variable:                  price   R-squared:                       0.006\n",
            "Model:                            OLS   Adj. R-squared:                  0.006\n",
            "Method:                 Least Squares   F-statistic:                     15.80\n",
            "Date:                Mon, 06 Dec 2021   Prob (F-statistic):           1.52e-15\n",
            "Time:                        11:45:05   Log-Likelihood:                -96010.\n",
            "No. Observations:               12127   AIC:                         1.920e+05\n",
            "Df Residuals:                   12121   BIC:                         1.921e+05\n",
            "Df Model:                           5                                         \n",
            "Covariance Type:            nonrobust                                         \n",
            "==============================================================================\n",
            "                 coef    std err          t      P>|t|      [0.025      0.975]\n",
            "------------------------------------------------------------------------------\n",
            "Intercept   1775.8124      6.606    268.818      0.000    1762.864    1788.761\n",
            "fh[T.1.0]     87.8155     18.140      4.841      0.000      52.258     123.373\n",
            "fh[T.2.0]   -887.9552    251.077     -3.537      0.000   -1380.107    -395.804\n",
            "fh[T.3.0]   -313.8594     51.358     -6.111      0.000    -414.528    -213.190\n",
            "fh[T.4.0]     -3.2891     51.063     -0.064      0.949    -103.381      96.803\n",
            "fh[T.5.0]    -88.3280     59.066     -1.495      0.135    -204.106      27.450\n",
            "==============================================================================\n",
            "Omnibus:                    10024.505   Durbin-Watson:                   1.915\n",
            "Prob(Omnibus):                  0.000   Jarque-Bera (JB):           520212.680\n",
            "Skew:                           3.635   Prob(JB):                         0.00\n",
            "Kurtosis:                      34.252   Cond. No.                         42.0\n",
            "==============================================================================\n",
            "\n",
            "Warnings:\n",
            "[1] Standard Errors assume that the covariance matrix of the errors is correctly specified.\n"
          ]
        }
      ]
    },
    {
      "cell_type": "markdown",
      "metadata": {
        "id": "tlWNfdclkOWZ"
      },
      "source": [
        "Aby zmienic poziom musimy wykorzystać następujący zapis"
      ]
    },
    {
      "cell_type": "code",
      "metadata": {
        "colab": {
          "base_uri": "https://localhost:8080/"
        },
        "id": "C9a4YiJEkRex",
        "outputId": "f77bd465-25be-4610-f055-3ca21b006c84"
      },
      "source": [
        "model3a = smf.ols(formula= \"price ~ C(fh, Treatment(reference=1))\", data = rent_sub).fit()\n",
        "print(model3a.summary())"
      ],
      "execution_count": 31,
      "outputs": [
        {
          "output_type": "stream",
          "name": "stdout",
          "text": [
            "                            OLS Regression Results                            \n",
            "==============================================================================\n",
            "Dep. Variable:                  price   R-squared:                       0.006\n",
            "Model:                            OLS   Adj. R-squared:                  0.006\n",
            "Method:                 Least Squares   F-statistic:                     15.80\n",
            "Date:                Mon, 06 Dec 2021   Prob (F-statistic):           1.52e-15\n",
            "Time:                        11:48:59   Log-Likelihood:                -96010.\n",
            "No. Observations:               12127   AIC:                         1.920e+05\n",
            "Df Residuals:                   12121   BIC:                         1.921e+05\n",
            "Df Model:                           5                                         \n",
            "Covariance Type:            nonrobust                                         \n",
            "========================================================================================================\n",
            "                                           coef    std err          t      P>|t|      [0.025      0.975]\n",
            "--------------------------------------------------------------------------------------------------------\n",
            "Intercept                             1863.6278     16.894    110.311      0.000    1830.512    1896.743\n",
            "C(fh, Treatment(reference=1))[T.0.0]   -87.8155     18.140     -4.841      0.000    -123.373     -52.258\n",
            "C(fh, Treatment(reference=1))[T.2.0]  -975.7707    251.558     -3.879      0.000   -1468.865    -482.676\n",
            "C(fh, Treatment(reference=1))[T.3.0]  -401.6749     53.660     -7.486      0.000    -506.857    -296.493\n",
            "C(fh, Treatment(reference=1))[T.4.0]   -91.1046     53.378     -1.707      0.088    -195.734      13.525\n",
            "C(fh, Treatment(reference=1))[T.5.0]  -176.1435     61.078     -2.884      0.004    -295.866     -56.421\n",
            "==============================================================================\n",
            "Omnibus:                    10024.505   Durbin-Watson:                   1.915\n",
            "Prob(Omnibus):                  0.000   Jarque-Bera (JB):           520212.680\n",
            "Skew:                           3.635   Prob(JB):                         0.00\n",
            "Kurtosis:                      34.252   Cond. No.                         55.3\n",
            "==============================================================================\n",
            "\n",
            "Warnings:\n",
            "[1] Standard Errors assume that the covariance matrix of the errors is correctly specified.\n"
          ]
        }
      ]
    }
  ]
}