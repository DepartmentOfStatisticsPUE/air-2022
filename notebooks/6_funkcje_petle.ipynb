{
  "nbformat": 4,
  "nbformat_minor": 0,
  "metadata": {
    "colab": {
      "name": "6_funkcje_petle.ipynb",
      "provenance": [],
      "collapsed_sections": [],
      "authorship_tag": "ABX9TyMJNQODqrKCfy2Zl4tvnLVZ",
      "include_colab_link": true
    },
    "kernelspec": {
      "name": "python3",
      "display_name": "Python 3"
    },
    "language_info": {
      "name": "python"
    }
  },
  "cells": [
    {
      "cell_type": "markdown",
      "metadata": {
        "id": "view-in-github",
        "colab_type": "text"
      },
      "source": [
        "<a href=\"https://colab.research.google.com/github/DepartmentOfStatisticsPUE/air-2022/blob/main/notebooks/6_funkcje_petle.ipynb\" target=\"_parent\"><img src=\"https://colab.research.google.com/assets/colab-badge.svg\" alt=\"Open In Colab\"/></a>"
      ]
    },
    {
      "cell_type": "markdown",
      "metadata": {
        "id": "pMHx46wQgxjY"
      },
      "source": [
        "Definicja funkcji w pythonie\n",
        "\n",
        "```\n",
        "def funkcja():\n",
        "  ciało funkcji\n",
        "\n",
        "```"
      ]
    },
    {
      "cell_type": "code",
      "metadata": {
        "id": "jHC_JLS-gvr0"
      },
      "source": [
        "def dodawanie(x, y):\n",
        "  wynik = x + y\n",
        "  return wynik"
      ],
      "execution_count": 7,
      "outputs": []
    },
    {
      "cell_type": "code",
      "metadata": {
        "colab": {
          "base_uri": "https://localhost:8080/"
        },
        "id": "Wkhn2mM8hQ6x",
        "outputId": "ce9cd361-1515-4531-b602-b3ee8387295a"
      },
      "source": [
        "dodawanie(10,5)"
      ],
      "execution_count": 8,
      "outputs": [
        {
          "output_type": "execute_result",
          "data": {
            "text/plain": [
              "15"
            ]
          },
          "metadata": {},
          "execution_count": 8
        }
      ]
    },
    {
      "cell_type": "code",
      "metadata": {
        "colab": {
          "base_uri": "https://localhost:8080/"
        },
        "id": "BYE4vfuvhigH",
        "outputId": "ada366df-f51f-432f-cc5d-797ae0e067b9"
      },
      "source": [
        "dodawanie(x=10,y=5)"
      ],
      "execution_count": 9,
      "outputs": [
        {
          "output_type": "execute_result",
          "data": {
            "text/plain": [
              "15"
            ]
          },
          "metadata": {},
          "execution_count": 9
        }
      ]
    },
    {
      "cell_type": "markdown",
      "metadata": {
        "id": "KZZYBnf5imOt"
      },
      "source": [
        "Pętla for"
      ]
    },
    {
      "cell_type": "code",
      "metadata": {
        "colab": {
          "base_uri": "https://localhost:8080/"
        },
        "id": "B6V6OF-YinM9",
        "outputId": "30f7ae42-162f-4a0a-aaad-f113dab55058"
      },
      "source": [
        "for i in range(0,2):\n",
        "  for j in range(0, 2):\n",
        "    print(i, j)"
      ],
      "execution_count": 10,
      "outputs": [
        {
          "output_type": "stream",
          "name": "stdout",
          "text": [
            "0 0\n",
            "0 1\n",
            "1 0\n",
            "1 1\n"
          ]
        }
      ]
    },
    {
      "cell_type": "code",
      "metadata": {
        "colab": {
          "base_uri": "https://localhost:8080/"
        },
        "id": "cgpMXIDiiwwl",
        "outputId": "f19079ea-6fa1-4e8e-ab0d-2d8f8bc51e98"
      },
      "source": [
        "[i**2 for i in range(0, 10)]"
      ],
      "execution_count": 12,
      "outputs": [
        {
          "output_type": "execute_result",
          "data": {
            "text/plain": [
              "[0, 1, 4, 9, 16, 25, 36, 49, 64, 81]"
            ]
          },
          "metadata": {},
          "execution_count": 12
        }
      ]
    }
  ]
}