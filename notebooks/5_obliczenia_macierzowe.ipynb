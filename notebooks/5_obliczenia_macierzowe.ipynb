{
  "nbformat": 4,
  "nbformat_minor": 0,
  "metadata": {
    "colab": {
      "name": "5_obliczenia_macierzowe.ipynb",
      "provenance": [],
      "collapsed_sections": [],
      "authorship_tag": "ABX9TyPahrMZmNU2lAePcDWiK5bD",
      "include_colab_link": true
    },
    "kernelspec": {
      "name": "python3",
      "display_name": "Python 3"
    },
    "language_info": {
      "name": "python"
    }
  },
  "cells": [
    {
      "cell_type": "markdown",
      "metadata": {
        "id": "view-in-github",
        "colab_type": "text"
      },
      "source": [
        "<a href=\"https://colab.research.google.com/github/DepartmentOfStatisticsPUE/air-2022/blob/main/notebooks/5_obliczenia_macierzowe.ipynb\" target=\"_parent\"><img src=\"https://colab.research.google.com/assets/colab-badge.svg\" alt=\"Open In Colab\"/></a>"
      ]
    },
    {
      "cell_type": "code",
      "metadata": {
        "id": "IGhtkjPMjd9E"
      },
      "source": [
        "import numpy as np"
      ],
      "execution_count": null,
      "outputs": []
    },
    {
      "cell_type": "markdown",
      "metadata": {
        "id": "gwF-cQXsjw3r"
      },
      "source": [
        "Rozwiązujemy zadania z pliku `numpy-jezyk-macierzowy.pdf`. Zaczniemy od zadania nr 1.\n",
        "\n",
        "$$\n",
        "A = \n",
        "\\begin{pmatrix}\n",
        "1 & 2 & -1 & 0 \\\\\n",
        "3 & −2 &  4  & 5 \\\\ \n",
        "2  & 6  & 5  & −3 \\\\\n",
        "0  & 1 & 5  & −4\n",
        "\\end{pmatrix}\n",
        "$$\n",
        "\n",
        "$$\n",
        "B = \n",
        "\\begin{pmatrix}\n",
        "3 & 6 \\\\\n",
        "4 & 0 \\\\\n",
        "2 & −1 \\\\\n",
        "1 & 1\n",
        "\\end{pmatrix}\n",
        "$$"
      ]
    },
    {
      "cell_type": "markdown",
      "metadata": {
        "id": "I5Jaa3CnkgFL"
      },
      "source": [
        "1. Oblicz wyznacznik macierzy A.\n",
        "2. Znajdź iloczyn A · B.\n",
        "3. Znajdź macierz transponowaną $B^T$\n",
        "4. Znajdź macierz odwrotną $A^{−1}$\n",
        "5. Znajdź $A^3$"
      ]
    },
    {
      "cell_type": "code",
      "metadata": {
        "colab": {
          "base_uri": "https://localhost:8080/"
        },
        "id": "J_nusvKgkfyI",
        "outputId": "0dde7e71-fbcc-4ad7-e6e2-370bd5c0c0bc"
      },
      "source": [
        "A = np.array( [ (1, 2, -1, 0), (3, -2, 4, 5), (2, 6, 5, -3), (0, 1, 5, -4) ] )\n",
        "B = np.array( [ (3, 6), (4, 0), (2, -1), (1, 1) ] )\n",
        "B"
      ],
      "execution_count": null,
      "outputs": [
        {
          "output_type": "execute_result",
          "data": {
            "text/plain": [
              "array([[ 3,  6],\n",
              "       [ 4,  0],\n",
              "       [ 2, -1],\n",
              "       [ 1,  1]])"
            ]
          },
          "metadata": {},
          "execution_count": 3
        }
      ]
    },
    {
      "cell_type": "markdown",
      "metadata": {
        "id": "Yt6RyCM1lsWH"
      },
      "source": [
        "Rozwiązanie 1.1"
      ]
    },
    {
      "cell_type": "code",
      "metadata": {
        "colab": {
          "base_uri": "https://localhost:8080/"
        },
        "id": "8FP2RUw0j3_j",
        "outputId": "e86b0221-87e7-470a-fe2e-a3df347e6609"
      },
      "source": [
        "np.linalg.det(A)"
      ],
      "execution_count": null,
      "outputs": [
        {
          "output_type": "execute_result",
          "data": {
            "text/plain": [
              "154.00000000000006"
            ]
          },
          "metadata": {},
          "execution_count": 4
        }
      ]
    },
    {
      "cell_type": "markdown",
      "metadata": {
        "id": "PCurbR-kmUC0"
      },
      "source": [
        "Rozwiązanie 1.2"
      ]
    },
    {
      "cell_type": "code",
      "metadata": {
        "colab": {
          "base_uri": "https://localhost:8080/"
        },
        "id": "VEgbmsSVmVmI",
        "outputId": "b9785fc7-e578-4610-e6a4-1188a6c57d4e"
      },
      "source": [
        "A @ B ## tylko w pythonie w wersji 3 i wyżej"
      ],
      "execution_count": null,
      "outputs": [
        {
          "output_type": "execute_result",
          "data": {
            "text/plain": [
              "array([[ 9,  7],\n",
              "       [14, 19],\n",
              "       [37,  4],\n",
              "       [10, -9]])"
            ]
          },
          "metadata": {},
          "execution_count": 5
        }
      ]
    },
    {
      "cell_type": "code",
      "metadata": {
        "colab": {
          "base_uri": "https://localhost:8080/"
        },
        "id": "Gf8hhxrTmqEn",
        "outputId": "41b3b6e6-3f3e-47a6-ac02-6aec500e48ec"
      },
      "source": [
        "np.matmul(A, B) ## matrix multiplication"
      ],
      "execution_count": null,
      "outputs": [
        {
          "output_type": "execute_result",
          "data": {
            "text/plain": [
              "array([[ 9,  7],\n",
              "       [14, 19],\n",
              "       [37,  4],\n",
              "       [10, -9]])"
            ]
          },
          "metadata": {},
          "execution_count": 6
        }
      ]
    },
    {
      "cell_type": "code",
      "metadata": {
        "colab": {
          "base_uri": "https://localhost:8080/"
        },
        "id": "0lOHdKL5m4DC",
        "outputId": "de335f5c-b146-4836-8446-bd626b2483f2"
      },
      "source": [
        "A.dot(B)"
      ],
      "execution_count": null,
      "outputs": [
        {
          "output_type": "execute_result",
          "data": {
            "text/plain": [
              "array([[ 9,  7],\n",
              "       [14, 19],\n",
              "       [37,  4],\n",
              "       [10, -9]])"
            ]
          },
          "metadata": {},
          "execution_count": 7
        }
      ]
    },
    {
      "cell_type": "markdown",
      "metadata": {
        "id": "5U9Xmy-1nN1m"
      },
      "source": [
        "Rozwiązanie 1.3 "
      ]
    },
    {
      "cell_type": "code",
      "metadata": {
        "colab": {
          "base_uri": "https://localhost:8080/"
        },
        "id": "ErZ7VIFWnSgQ",
        "outputId": "84d91840-e472-45ac-ca9c-e614f37043d3"
      },
      "source": [
        "B.T"
      ],
      "execution_count": null,
      "outputs": [
        {
          "output_type": "execute_result",
          "data": {
            "text/plain": [
              "array([[ 3,  4,  2,  1],\n",
              "       [ 6,  0, -1,  1]])"
            ]
          },
          "metadata": {},
          "execution_count": 14
        }
      ]
    },
    {
      "cell_type": "code",
      "metadata": {
        "colab": {
          "base_uri": "https://localhost:8080/"
        },
        "id": "Yw6o1MqgnUaD",
        "outputId": "276d96e1-772d-4327-d8b5-af202333a096"
      },
      "source": [
        "B.transpose()"
      ],
      "execution_count": null,
      "outputs": [
        {
          "output_type": "execute_result",
          "data": {
            "text/plain": [
              "array([[ 3,  4,  2,  1],\n",
              "       [ 6,  0, -1,  1]])"
            ]
          },
          "metadata": {},
          "execution_count": 9
        }
      ]
    },
    {
      "cell_type": "code",
      "metadata": {
        "colab": {
          "base_uri": "https://localhost:8080/"
        },
        "id": "AnVIeb4QnV0e",
        "outputId": "20c13a67-99a7-4da3-f35e-18324bd7c377"
      },
      "source": [
        "np.transpose(B)"
      ],
      "execution_count": null,
      "outputs": [
        {
          "output_type": "execute_result",
          "data": {
            "text/plain": [
              "array([[ 3,  4,  2,  1],\n",
              "       [ 6,  0, -1,  1]])"
            ]
          },
          "metadata": {},
          "execution_count": 12
        }
      ]
    },
    {
      "cell_type": "markdown",
      "metadata": {
        "id": "C3h1kBYcnxMa"
      },
      "source": [
        "Rozwiązanie 1.4"
      ]
    },
    {
      "cell_type": "code",
      "metadata": {
        "colab": {
          "base_uri": "https://localhost:8080/"
        },
        "id": "VrfNvOCxnzBr",
        "outputId": "d4fb20cc-a7e8-448b-ab54-3310a2a23307"
      },
      "source": [
        "np.linalg.inv(A)"
      ],
      "execution_count": null,
      "outputs": [
        {
          "output_type": "execute_result",
          "data": {
            "text/plain": [
              "array([[ 1.42207792,  0.2012987 , -0.51298701,  0.63636364],\n",
              "       [-0.43506494, -0.08441558,  0.34415584, -0.36363636],\n",
              "       [-0.44805195,  0.03246753,  0.17532468, -0.09090909],\n",
              "       [-0.66883117,  0.01948052,  0.30519481, -0.45454545]])"
            ]
          },
          "metadata": {},
          "execution_count": 20
        }
      ]
    },
    {
      "cell_type": "code",
      "metadata": {
        "colab": {
          "base_uri": "https://localhost:8080/"
        },
        "id": "UG98IXImn1ZQ",
        "outputId": "2ed763c5-2e6f-4dc7-f718-ca63187de228"
      },
      "source": [
        "np.linalg.pinv(A) # uogólniona metoda odwarcania macierzy (Moore-Penrose pseudo-inverse)"
      ],
      "execution_count": null,
      "outputs": [
        {
          "output_type": "execute_result",
          "data": {
            "text/plain": [
              "array([[ 1.42207792,  0.2012987 , -0.51298701,  0.63636364],\n",
              "       [-0.43506494, -0.08441558,  0.34415584, -0.36363636],\n",
              "       [-0.44805195,  0.03246753,  0.17532468, -0.09090909],\n",
              "       [-0.66883117,  0.01948052,  0.30519481, -0.45454545]])"
            ]
          },
          "metadata": {},
          "execution_count": 18
        }
      ]
    },
    {
      "cell_type": "markdown",
      "metadata": {
        "id": "AJX05ukzoYvk"
      },
      "source": [
        "$A^{-1}  A = I$"
      ]
    },
    {
      "cell_type": "code",
      "metadata": {
        "colab": {
          "base_uri": "https://localhost:8080/"
        },
        "id": "7uocJWGPouWN",
        "outputId": "6e8ceff1-5ab4-4ec1-df82-957dc9c79ad5"
      },
      "source": [
        "np.linalg.inv(A) @ A"
      ],
      "execution_count": null,
      "outputs": [
        {
          "output_type": "execute_result",
          "data": {
            "text/plain": [
              "array([[ 1.00000000e+00, -6.66133815e-16, -4.44089210e-16,\n",
              "         4.44089210e-16],\n",
              "       [ 0.00000000e+00,  1.00000000e+00,  1.11022302e-16,\n",
              "        -2.22044605e-16],\n",
              "       [ 0.00000000e+00,  4.16333634e-17,  1.00000000e+00,\n",
              "        -5.55111512e-17],\n",
              "       [ 0.00000000e+00,  1.66533454e-16, -1.66533454e-16,\n",
              "         1.00000000e+00]])"
            ]
          },
          "metadata": {},
          "execution_count": 23
        }
      ]
    },
    {
      "cell_type": "code",
      "metadata": {
        "colab": {
          "base_uri": "https://localhost:8080/"
        },
        "id": "hNcoTnsUobJO",
        "outputId": "18030f5d-61ce-4cbe-fb05-8ea7a2f5358f"
      },
      "source": [
        "np.round(np.abs(np.linalg.inv(A) @ A))"
      ],
      "execution_count": null,
      "outputs": [
        {
          "output_type": "execute_result",
          "data": {
            "text/plain": [
              "array([[1., 0., 0., 0.],\n",
              "       [0., 1., 0., 0.],\n",
              "       [0., 0., 1., 0.],\n",
              "       [0., 0., 0., 1.]])"
            ]
          },
          "metadata": {},
          "execution_count": 24
        }
      ]
    },
    {
      "cell_type": "markdown",
      "metadata": {
        "id": "RfgI5JtapXo1"
      },
      "source": [
        "Rozwiązanie 1.5"
      ]
    },
    {
      "cell_type": "code",
      "metadata": {
        "colab": {
          "base_uri": "https://localhost:8080/"
        },
        "id": "ftKHkdhRpbzP",
        "outputId": "c7fbcdef-2690-442e-e8f5-8f5fa0535ed8"
      },
      "source": [
        "A @ A @ A"
      ],
      "execution_count": null,
      "outputs": [
        {
          "output_type": "execute_result",
          "data": {
            "text/plain": [
              "array([[ -15,   51,   38,  -98],\n",
              "       [ 190,   94,  111,  261],\n",
              "       [ 151,  241,  341, -109],\n",
              "       [ 103,   38,  158,   69]])"
            ]
          },
          "metadata": {},
          "execution_count": 25
        }
      ]
    },
    {
      "cell_type": "code",
      "metadata": {
        "colab": {
          "base_uri": "https://localhost:8080/"
        },
        "id": "9XoIpC5Tpd44",
        "outputId": "5bddd63f-00c0-476a-b0e4-d09f83b7cdbd"
      },
      "source": [
        "np.linalg.matrix_power(A, 3)"
      ],
      "execution_count": null,
      "outputs": [
        {
          "output_type": "execute_result",
          "data": {
            "text/plain": [
              "array([[ -15,   51,   38,  -98],\n",
              "       [ 190,   94,  111,  261],\n",
              "       [ 151,  241,  341, -109],\n",
              "       [ 103,   38,  158,   69]])"
            ]
          },
          "metadata": {},
          "execution_count": 26
        }
      ]
    },
    {
      "cell_type": "code",
      "metadata": {
        "colab": {
          "base_uri": "https://localhost:8080/"
        },
        "id": "9OflpQVCpiF8",
        "outputId": "da371721-c557-4d32-c27f-955828ebcaba"
      },
      "source": [
        "A**3 ## podniesienie do 3 potęgi wszystkich elementów macierzy"
      ],
      "execution_count": null,
      "outputs": [
        {
          "output_type": "execute_result",
          "data": {
            "text/plain": [
              "array([[  1,   8,  -1,   0],\n",
              "       [ 27,  -8,  64, 125],\n",
              "       [  8, 216, 125, -27],\n",
              "       [  0,   1, 125, -64]])"
            ]
          },
          "metadata": {},
          "execution_count": 28
        }
      ]
    },
    {
      "cell_type": "code",
      "metadata": {
        "colab": {
          "base_uri": "https://localhost:8080/"
        },
        "id": "RXAEs2TFpv1w",
        "outputId": "f5f4a692-58be-4ae3-f58f-9506d41f0da3"
      },
      "source": [
        "np.power(A, 3)"
      ],
      "execution_count": null,
      "outputs": [
        {
          "output_type": "execute_result",
          "data": {
            "text/plain": [
              "array([[  1,   8,  -1,   0],\n",
              "       [ 27,  -8,  64, 125],\n",
              "       [  8, 216, 125, -27],\n",
              "       [  0,   1, 125, -64]])"
            ]
          },
          "metadata": {},
          "execution_count": 29
        }
      ]
    },
    {
      "cell_type": "markdown",
      "metadata": {
        "id": "JApjpnqjqOQU"
      },
      "source": [
        "Zadanie 6. Niech A będzie macierzą z następującymi elementami\n",
        "\n",
        "$$\n",
        "A = \n",
        "\\begin{pmatrix}\n",
        "1 & 2 & 3 \\\\\n",
        "4 & 5 & 6 \\\\\n",
        "7 & 8 & 9\n",
        "\\end{pmatrix}\n",
        "$$"
      ]
    },
    {
      "cell_type": "code",
      "metadata": {
        "colab": {
          "base_uri": "https://localhost:8080/"
        },
        "id": "uvqFNaEdqcgT",
        "outputId": "3f5f55cc-58ad-4468-83aa-eda477e5997d"
      },
      "source": [
        "dane = np.arange(1, 10)\n",
        "dane"
      ],
      "execution_count": null,
      "outputs": [
        {
          "output_type": "execute_result",
          "data": {
            "text/plain": [
              "array([1, 2, 3, 4, 5, 6, 7, 8, 9])"
            ]
          },
          "metadata": {},
          "execution_count": 30
        }
      ]
    },
    {
      "cell_type": "code",
      "metadata": {
        "colab": {
          "base_uri": "https://localhost:8080/"
        },
        "id": "bMqnfM6Gq4EM",
        "outputId": "373ac5ca-e016-4bf5-da2e-925af28e691d"
      },
      "source": [
        "A5 = dane.reshape(3,3, order = 'C')\n",
        "A5"
      ],
      "execution_count": null,
      "outputs": [
        {
          "output_type": "execute_result",
          "data": {
            "text/plain": [
              "array([[1, 2, 3],\n",
              "       [4, 5, 6],\n",
              "       [7, 8, 9]])"
            ]
          },
          "metadata": {},
          "execution_count": 35
        }
      ]
    },
    {
      "cell_type": "markdown",
      "metadata": {
        "id": "3bV3P9ixrQWi"
      },
      "source": [
        "1. Wyznacz liczbę wierszy i kolumn macierzy A.\n",
        "2. Wyznacz sumę wszystkich elementów macierzy A.\n",
        "3. Wyznacz sumy wszytkich elementów w poszczególnych kolumnach macierzy\n",
        "A.\n",
        "4. Wyznacz sumy wszytkich elementów w poszczególnych wierszach macierzy A.\n",
        "5. Wyznacz średnie wszytkich elementów w poszczególnych kolumnach macierzy\n",
        "A.\n",
        "6. Wyznacz średnie wszytkich elementów w poszczególnych wierszach macierzy\n",
        "A.\n",
        "7. Oblicz A11 + A32.\n",
        "8. Wyświetl zawartość drugiej kolumny.\n",
        "9. Wyświetl zawartość pierwszego wiersza."
      ]
    },
    {
      "cell_type": "code",
      "metadata": {
        "colab": {
          "base_uri": "https://localhost:8080/"
        },
        "id": "ztFhCfkarRVP",
        "outputId": "187ef0d7-ca44-4ef8-80dd-6ab595435630"
      },
      "source": [
        "A5.shape ## np.shape(A5) 5.1\n",
        "A5.sum() ## np.sum(A5) 5.2\n",
        "A5.sum(axis = 0) ## np.sum(A5, axis = 0) 5.3\n",
        "A5.sum(axis = 1) ## np.sum(A5, axis = 1) 5.4\n",
        "A5.mean(axis = 0) ## np.mean(A5, axis = 0) 5.5\n",
        "A5.mean(axis = 1) ## np.mean(A5, axis = 1) 5.6\n",
        "A5[0,0] + A5[2,1] ## 5.7\n",
        "A5[0][0] + A5[2][1] ## podobne do C/ C++ 5.7\n",
        "A5[:, 1] ## druga kolumna 5.8\n",
        "A5[0, :] ## A5[0] 5.8"
      ],
      "execution_count": null,
      "outputs": [
        {
          "output_type": "execute_result",
          "data": {
            "text/plain": [
              "array([1, 2, 3])"
            ]
          },
          "metadata": {},
          "execution_count": 63
        }
      ]
    },
    {
      "cell_type": "markdown",
      "metadata": {
        "id": "Vy7fCf1LvE4d"
      },
      "source": [
        "Deklaracje różnych ważnych macierzy."
      ]
    },
    {
      "cell_type": "code",
      "metadata": {
        "colab": {
          "base_uri": "https://localhost:8080/"
        },
        "id": "tkcenWVWvIg7",
        "outputId": "79fefa6b-c2ea-4b23-f0c0-eeba6a5ac9ea"
      },
      "source": [
        "print(np.zeros([3,3]))\n",
        "print(np.zeros([3,3], dtype = int))"
      ],
      "execution_count": null,
      "outputs": [
        {
          "output_type": "stream",
          "name": "stdout",
          "text": [
            "[[0. 0. 0.]\n",
            " [0. 0. 0.]\n",
            " [0. 0. 0.]]\n",
            "[[0 0 0]\n",
            " [0 0 0]\n",
            " [0 0 0]]\n"
          ]
        }
      ]
    },
    {
      "cell_type": "code",
      "metadata": {
        "colab": {
          "base_uri": "https://localhost:8080/"
        },
        "id": "Vo8CMvBJvabJ",
        "outputId": "0ea5e0c7-8759-4c7f-a4e0-91837a736e86"
      },
      "source": [
        "np.ones([3,3])\n",
        "np.ones([3,3], dtype = int)"
      ],
      "execution_count": null,
      "outputs": [
        {
          "output_type": "execute_result",
          "data": {
            "text/plain": [
              "array([[1, 1, 1],\n",
              "       [1, 1, 1],\n",
              "       [1, 1, 1]])"
            ]
          },
          "metadata": {},
          "execution_count": 69
        }
      ]
    },
    {
      "cell_type": "code",
      "metadata": {
        "colab": {
          "base_uri": "https://localhost:8080/"
        },
        "id": "pEvjFa2Qvhdn",
        "outputId": "3b497ce5-41ff-4b56-f517-ab706d8a9a8b"
      },
      "source": [
        "np.eye(3) ## macierz jednostkowa\n",
        "np.eye(3, dtype = int) ## macierz jednostkowa"
      ],
      "execution_count": null,
      "outputs": [
        {
          "output_type": "execute_result",
          "data": {
            "text/plain": [
              "array([[1, 0, 0],\n",
              "       [0, 1, 0],\n",
              "       [0, 0, 1]])"
            ]
          },
          "metadata": {},
          "execution_count": 71
        }
      ]
    },
    {
      "cell_type": "code",
      "metadata": {
        "colab": {
          "base_uri": "https://localhost:8080/"
        },
        "id": "kXvU8GyxvyT_",
        "outputId": "caf2288c-5105-4b1f-fe3e-afb91ccf6c47"
      },
      "source": [
        "zera = np.zeros([3,3])\n",
        "zera[1,1] = 3\n",
        "zera"
      ],
      "execution_count": null,
      "outputs": [
        {
          "output_type": "execute_result",
          "data": {
            "text/plain": [
              "array([[0., 0., 0.],\n",
              "       [0., 3., 0.],\n",
              "       [0., 0., 0.]])"
            ]
          },
          "metadata": {},
          "execution_count": 73
        }
      ]
    },
    {
      "cell_type": "code",
      "metadata": {
        "colab": {
          "base_uri": "https://localhost:8080/"
        },
        "id": "Pk_4uZEhvyOh",
        "outputId": "6f5336a6-bddf-43b8-9465-92dc60a1034d"
      },
      "source": [
        "zera_int = np.zeros([3,3], dtype = int)\n",
        "zera_int[1,1] = 3.6\n",
        "zera_int"
      ],
      "execution_count": null,
      "outputs": [
        {
          "output_type": "execute_result",
          "data": {
            "text/plain": [
              "array([[0, 0, 0],\n",
              "       [0, 3, 0],\n",
              "       [0, 0, 0]])"
            ]
          },
          "metadata": {},
          "execution_count": 79
        }
      ]
    }
  ]
}